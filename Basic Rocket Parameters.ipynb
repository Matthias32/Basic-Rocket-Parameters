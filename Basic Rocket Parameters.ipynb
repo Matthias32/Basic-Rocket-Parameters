{
 "cells": [
  {
   "cell_type": "markdown",
   "id": "d4d5595d-828b-4cf2-8fe2-cc80bf22f8c7",
   "metadata": {},
   "source": [
    "## Imports"
   ]
  },
  {
   "cell_type": "code",
   "execution_count": 1,
   "id": "7949768d-546e-4574-b3db-7670ff179c0c",
   "metadata": {
    "tags": []
   },
   "outputs": [],
   "source": [
    "import numpy as np\n",
    "import matplotlib.pyplot as plt\n",
    "\n",
    "from numpy import log as ln"
   ]
  },
  {
   "cell_type": "code",
   "execution_count": null,
   "id": "3845adb3",
   "metadata": {},
   "outputs": [],
   "source": []
  },
  {
   "cell_type": "markdown",
   "id": "5587d2c9-dac1-496b-b19f-146eb03d9110",
   "metadata": {},
   "source": [
    "## Constants/Typical values"
   ]
  },
  {
   "cell_type": "code",
   "execution_count": 2,
   "id": "ef18d911-1579-4dd6-82bc-aea40c206809",
   "metadata": {
    "tags": []
   },
   "outputs": [],
   "source": [
    "# Natural constants\n",
    "g = 9.81 # [m/s^2] Gravitational acceleration\n",
    "G = 6.67430e-11 # Gravitational constant [m^3/kg s^2]\n",
    "kb = 1.380649e-23 # Boltzmann constant [J/K]\n",
    "u = 1.660539066e-27 # Atomic mass unit (Dalton) [kg]\n",
    "\n",
    "# Common height\n",
    "hk = 100 # [km] Karman Line\n",
    "hu = 80 # [km] Space definition US Airforce\n",
    "hleo = 200 # [km] Lowest LEO Orbit (200 - 2000 km)\n",
    "hpark = 150 # [km] Lowest parking orbit (150 - 200 km)\n",
    "\n",
    "# Atmospheric values\n",
    "rho0 = 1.2 # [kg/m^3] Air density at 0 meter 20°C\n",
    "\n",
    "# Cosmic speeds\n",
    "vesc1 = 7800 # [m/s] First escape velocity in 180 km\n",
    "\n",
    "#Exhaust speed various engines examples\n",
    "vrl10 = 4565 # [m/s] RL10 Aerojet Rocketdyne (H2/LOX), Centaur upper stage of the Atlas V and the DCSS of the Delta IV."
   ]
  },
  {
   "cell_type": "markdown",
   "id": "75c5171d-7831-43b4-adbe-05c1e4465bc5",
   "metadata": {},
   "source": [
    "# Rocket Science"
   ]
  },
  {
   "cell_type": "markdown",
   "id": "a98e74be-10e0-4e46-b79b-1bd0522b5a23",
   "metadata": {},
   "source": [
    "## Rocket Mass Ratio R\n",
    "\n",
    "$R=\\frac{\\text{Rocket fully loaded}}{\\text{Empty rocket}}=\\frac{m_{0}}{m}$\n",
    "\n",
    "Source: Rocket Manual for Amateurs by Bertrand R Brinley Page 134"
   ]
  },
  {
   "cell_type": "code",
   "execution_count": 18,
   "id": "5dd42e88-df31-4398-bbce-62fbbcfd9239",
   "metadata": {
    "tags": []
   },
   "outputs": [],
   "source": [
    "mp = 9 # Propellant mass\n",
    "m0 = 12 # [kg] Initial weight\n",
    "m = 1 # [kg} Dry mass, cutoff weight, burnout\n",
    "vg = vrl10 # [m/s] Propellant speed/exhaust speed or specific impulse in m/s"
   ]
  },
  {
   "cell_type": "code",
   "execution_count": 19,
   "id": "b2f5793d-1fb6-48b5-a1f5-878db1db86ea",
   "metadata": {
    "tags": []
   },
   "outputs": [
    {
     "data": {
      "text/plain": [
       "12.0"
      ]
     },
     "execution_count": 19,
     "metadata": {},
     "output_type": "execute_result"
    }
   ],
   "source": [
    "R = m0/m # [kg]\n",
    "R"
   ]
  },
  {
   "cell_type": "markdown",
   "id": "ff8e1429-cb1d-4083-a1f9-a127f0aa142c",
   "metadata": {},
   "source": [
    "## Rocket Efficiency (from Mass Ratio)\n",
    "\n",
    "$\\frac{E_{Rocket}}{E} = \\frac{ln^2R}{ln^2R+(R-1)}$<br>\n",
    "\n",
    "R: Mass Ratio<br>\n",
    "\n",
    "Derivation: We assume that an Energy E is needed to divide the propellant mp from the rocket dry mass m.\n",
    "\n",
    "Final Rocket energy after burnout<br>\n",
    "[1]: $E_{Rocket}=\\frac{1}{2}mV^2$\n",
    "\n",
    "Compare impulse rocket with impulse propellant (vg is propellant speed)<br>\n",
    "$V=-\\frac{m_{p}}{m}v_{g}$\n",
    "\n",
    "Into 1:<br>\n",
    "$E_{Rocket}=\\frac{1}{2}\\frac{m_{p}^2v_{g}^2}{m}$<br>\n",
    "\n",
    "Divided with the energy form the propellant E=1/2mp vg^2 and use the mass ratio R=(mp+m)/m<br>\n",
    "$\\frac{E_{Rocket}}{E}=\\frac{R-1}{R}$\n",
    "\n",
    "Because we can not speed up instantly we integrate like we did with the rocket equation and receive:<br>\n",
    "$\\frac{E_{Rocket}}{E} = \\frac{ln^2R}{ln^2R+(R-1)}$<br>\n",
    "$(ln^2X=ln(X)^2)$\n",
    "\n",
    "<a>Source: https://de.wikipedia.org/wiki/Raketentriebwerk </a>\n"
   ]
  },
  {
   "cell_type": "code",
   "execution_count": 20,
   "id": "fc43b6ce-3acf-44f4-82a0-c071dc0fada0",
   "metadata": {
    "tags": []
   },
   "outputs": [
    {
     "name": "stdout",
     "output_type": "stream",
     "text": [
      "35.95\n"
     ]
    }
   ],
   "source": [
    "Eff = ((ln(R))**2)/(ln(R)**2+(R-1))*100\n",
    "print(Eff.round(2))"
   ]
  },
  {
   "cell_type": "code",
   "execution_count": 21,
   "id": "20a726de-f320-4196-a495-e56ffc59cff3",
   "metadata": {
    "tags": []
   },
   "outputs": [
    {
     "data": {
      "image/png": "[encoded data removed]",
      "text/plain": [
       "<Figure size 432x288 with 1 Axes>"
      ]
     },
     "metadata": {
      "needs_background": "light"
     },
     "output_type": "display_data"
    }
   ],
   "source": [
    "#As a plot we can see the the maxium is at mass ratio 5\n",
    "x = np.linspace(1.05,100,100) # 100 linearly spaced numbers\n",
    "y = ((ln(x))**2)/(ln(x)**2+(x-1)) * 100\n",
    "\n",
    "# Plot\n",
    "plt.ylabel('Efficiency %')\n",
    "plt.xlabel('Mass Ratio')\n",
    "plt.xscale('log')\n",
    "plt.plot(x,y)\n",
    "plt.plot(R,Eff, marker = 'o')\n",
    "plt.show()"
   ]
  },
  {
   "cell_type": "markdown",
   "id": "5502d828-a33f-4416-8c77-cf33a2984690",
   "metadata": {},
   "source": [
    "## Specific Impulse Isp\n",
    "\n",
    "$I_{sp_{si}}=v_{g} =\\frac{\\dot{p}}{\\dot{m}}=\\frac{F}{\\dot{m}} $[m/s]<br>\n",
    "$v_{g}=g I_{sp}$[m/s]\n",
    "\n",
    "For Vacuum only because in the Atmosphere the exhaust velocity is reduced by the surrounding pressure. Rocket nozzles have only one ideal pressure setup.\n",
    "\n",
    "g: Gravitational acceleration on Earth<br>\n"
   ]
  },
  {
   "cell_type": "code",
   "execution_count": 22,
   "id": "2e00fcea-5b32-443e-ad5d-d035e9f96186",
   "metadata": {
    "tags": []
   },
   "outputs": [
    {
     "data": {
      "text/plain": [
       "465.34148827726807"
      ]
     },
     "execution_count": 22,
     "metadata": {},
     "output_type": "execute_result"
    }
   ],
   "source": [
    "Isp = vg/g # [s]\n",
    "Isp"
   ]
  },
  {
   "cell_type": "markdown",
   "id": "99c9ad2d-edd0-477d-b3c2-7c677f4dafff",
   "metadata": {},
   "source": [
    "## Rocket Equation\n",
    "\n",
    "$\\Delta v=v_{g}ln\\frac{m_{0}}{m}$\n",
    "\n",
    "delta v: Maximum speed change<br>\n",
    "vg: Propellant speed<br>\n",
    "m0: Initial mass (Rocket + propellant)<br>\n",
    "m: Rocket mass/after burnout"
   ]
  },
  {
   "cell_type": "code",
   "execution_count": 23,
   "id": "7c536e4f-1dfd-4c0a-9d69-cac3d5b770fc",
   "metadata": {
    "tags": []
   },
   "outputs": [
    {
     "name": "stdout",
     "output_type": "stream",
     "text": [
      "11343.6\n"
     ]
    }
   ],
   "source": [
    "vend=vg*ln(R) # [m/s]\n",
    "print(vend.round(2))"
   ]
  },
  {
   "cell_type": "code",
   "execution_count": 24,
   "id": "06ead124-9216-40e7-8233-4d08af8d5549",
   "metadata": {
    "tags": []
   },
   "outputs": [
    {
     "data": {
      "image/png": "[encoded data removed]",
      "text/plain": [
       "<Figure size 432x288 with 1 Axes>"
      ]
     },
     "metadata": {
      "needs_background": "light"
     },
     "output_type": "display_data"
    }
   ],
   "source": [
    "#As a plot we can see that above mass ratio of e (2,7) the final speed can be bigger than the initial one\n",
    "x = np.linspace(1,100,100) # 100 linearly spaced numbers\n",
    "y = vg*ln(x)\n",
    "\n",
    "# Plot\n",
    "plt.ylabel('vend[m/s]')\n",
    "plt.xlabel('Mass Ratio')\n",
    "plt.plot(x,y)\n",
    "plt.plot(R,vend, marker = 'o')\n",
    "plt.axhline(y=vesc1, color='black', linewidth=0.5, linestyle='--')\n",
    "plt.show()"
   ]
  },
  {
   "cell_type": "markdown",
   "id": "fbd38206-0433-4243-addf-7ab40e3a628f",
   "metadata": {
    "tags": []
   },
   "source": [
    "For a multi stage rocket the delta v adds up for each stage\n",
    "\n",
    "For example a two stage rocket with the same vg for all stages and 90% fuel would have:\n",
    "\n",
    "$\\Delta v=3,3v_{g}$\n",
    "\n",
    "A single stage rocket with the same fuel an dry mass:\n",
    "\n",
    "$\\Delta v=2,2v_{g}$\n",
    "\n",
    "So the two stage rocket is about 1,5 times more efficent"
   ]
  },
  {
   "cell_type": "markdown",
   "id": "e3cbcd0b-c762-44e6-a346-6891079f715d",
   "metadata": {
    "tags": []
   },
   "source": [
    "## Max Q\n",
    "\n",
    "Max Q is the time and position a rocket expires the maximum dynamic pressure. It’s a combination of high speed and high air density. Tt can be described with the dynamic pressure (Staudruck)\n",
    "\n",
    "$p=\\frac{\\rho}{2}v^2$\n",
    "\n",
    "rho = Air density<br>\n",
    "v = Rocket speed\n"
   ]
  },
  {
   "cell_type": "code",
   "execution_count": 25,
   "id": "8d2de4be-8801-4dae-a56e-c009d739682a",
   "metadata": {},
   "outputs": [
    {
     "data": {
      "text/plain": [
       "1200.0"
      ]
     },
     "execution_count": 25,
     "metadata": {},
     "output_type": "execute_result"
    }
   ],
   "source": [
    "# Example for our rocket\n",
    "\n",
    "rho = rho0 # [kg/m^3]\n",
    "v = 2000 # [m/s]\n",
    "\n",
    "maxQ = rho/2*v # [Pa][N/m^2]\n",
    "maxQ"
   ]
  },
  {
   "cell_type": "markdown",
   "id": "3ae588e4-d6d3-468a-b19f-67f57572782b",
   "metadata": {},
   "source": [
    "# Rocket Engines\n",
    "## Liquid Fuels\n",
    "\n",
    "The Thermal velocity vth of a gas in three dimensions is described as:\n",
    "\n",
    "$v_{th}=\\sqrt{\\frac{3k_{bT}}{m}}$\n",
    "\n",
    "kb: Boltzmann constant<br>\n",
    "m: Molecule Mass<br>\n",
    "T: Temperature<br>\n",
    "\n",
    "It is directly proportional to the specific impulse so:\n",
    "\n",
    "$I_{sp}=\\frac{v_{th}}{g}$\n"
   ]
  },
  {
   "cell_type": "code",
   "execution_count": 26,
   "id": "60b2caec-31d4-49e5-9d75-aac8c1915da8",
   "metadata": {},
   "outputs": [
    {
     "name": "stdout",
     "output_type": "stream",
     "text": [
      "1934.3\n"
     ]
    }
   ],
   "source": [
    "#Example hydrogen\n",
    "\n",
    "T = 300 # Temperature of the gas [K]\n",
    "mu = 2 # Mass unit of the molecule (For H2 take H mass double)\n",
    "\n",
    "vth=np.sqrt((3*kb*T)/(mu*u)) # [m/s]\n",
    "print(vth.round(2))"
   ]
  },
  {
   "cell_type": "markdown",
   "id": "3348b02b-2b5e-48c6-9fa6-fc5159e101a5",
   "metadata": {},
   "source": [
    "\n",
    "# Orbital Mechanics\n",
    "## Gravitation\n",
    "\n",
    "$F_{g}=G\\frac{m_{1}m_{2}}{r^2}$\n",
    "\n",
    "<img src='gravity.png' width=\"200\" height=\"200\">\n",
    "\n",
    "The acceleration between two object is with F=ma:<br>\n",
    "$a_{1}=\\frac{F_{1}}{m_{1}}=G\\frac{m_{2}}{r^2}$"
   ]
  },
  {
   "cell_type": "markdown",
   "id": "755c8dbf-fc55-4ca4-88e1-54608c8f92f8",
   "metadata": {},
   "source": [
    "## First cosmic speed/Orbit Speed\n",
    "\n",
    "We compare the centripetal force of an object with speed v with the gravitational acceleration (In free Fall there is only gravity force)<br>\n",
    "$\\frac{v^2}{r}=\\frac{GM}{r^2}$\n",
    "\n",
    "Solved by v we receive<br>\n",
    "$v=\\sqrt{\\frac{GM}{r}}$\n",
    "\n",
    "G: Gravitational constant<br>\n",
    "M: Planets Mass<br>\n",
    "r: Radius from planets core"
   ]
  },
  {
   "cell_type": "code",
   "execution_count": 27,
   "id": "48e93540-493d-477d-bb77-d83e5081e8c9",
   "metadata": {},
   "outputs": [
    {
     "name": "stdout",
     "output_type": "stream",
     "text": [
      "7800.39\n"
     ]
    }
   ],
   "source": [
    "#Example for Earth\n",
    "h = 180000 # Height from surface\n",
    "M = 5.9722e+24 # Mass earth [kg]\n",
    "re = 6371e3 # Earth radius [m]\n",
    "\n",
    "cs = np.sqrt(M*G/(h+re)) # [m/s]\n",
    "print(cs.round(2))"
   ]
  },
  {
   "cell_type": "code",
   "execution_count": null,
   "id": "de8ee740",
   "metadata": {},
   "outputs": [],
   "source": []
  }
 ],
 "metadata": {
  "kernelspec": {
   "display_name": "Python 3 (ipykernel)",
   "language": "python",
   "name": "python3"
  },
  "language_info": {
   "codemirror_mode": {
    "name": "ipython",
    "version": 3
   },
   "file_extension": ".py",
   "mimetype": "text/x-python",
   "name": "python",
   "nbconvert_exporter": "python",
   "pygments_lexer": "ipython3",
   "version": "3.9.12"
  },
  "vscode": {
   "interpreter": {
    "hash": "8c7f0a6833b2e90d418006e0e6deec1fc5fac15b23c1dee2df1a27ddd2f0576d"
   }
  }
 },
 "nbformat": 4,
 "nbformat_minor": 5
}
